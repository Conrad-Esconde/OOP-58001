{
  "nbformat": 4,
  "nbformat_minor": 0,
  "metadata": {
    "colab": {
      "name": "Fundamentals of Python.ipynb",
      "provenance": [],
      "authorship_tag": "ABX9TyM63JWYpvH74UiPWnHRhuAf",
      "include_colab_link": true
    },
    "kernelspec": {
      "name": "python3",
      "display_name": "Python 3"
    },
    "language_info": {
      "name": "python"
    }
  },
  "cells": [
    {
      "cell_type": "markdown",
      "metadata": {
        "id": "view-in-github",
        "colab_type": "text"
      },
      "source": [
        "<a href=\"https://colab.research.google.com/github/Conrad-Esconde/OOP-58001/blob/main/Fundamentals_of_Python.ipynb\" target=\"_parent\"><img src=\"https://colab.research.google.com/assets/colab-badge.svg\" alt=\"Open In Colab\"/></a>"
      ]
    },
    {
      "cell_type": "markdown",
      "source": [
        "#Fundamentals of Python"
      ],
      "metadata": {
        "id": "edDwmUbTj_Ps"
      }
    },
    {
      "cell_type": "code",
      "source": [
        "x=float(1)\n",
        "a,b=0,-1\n",
        "a,b,c=(\"Sally\",4,\"Ana\")\n",
        "\n",
        "print('This is a Sample')\n",
        "print(type(a),type(b))\n"
      ],
      "metadata": {
        "colab": {
          "base_uri": "https://localhost:8080/"
        },
        "id": "z6PVSbwakMt4",
        "outputId": "07c0d242-7714-4dab-8561-e13a22fd6068"
      },
      "execution_count": null,
      "outputs": [
        {
          "output_type": "stream",
          "name": "stdout",
          "text": [
            "This is a Sample\n",
            "<class 'str'> <class 'int'>\n"
          ]
        }
      ]
    },
    {
      "cell_type": "markdown",
      "source": [
        "#Casting"
      ],
      "metadata": {
        "id": "nXFTIW16mHkF"
      }
    },
    {
      "cell_type": "code",
      "source": [
        "print(x)"
      ],
      "metadata": {
        "colab": {
          "base_uri": "https://localhost:8080/"
        },
        "id": "Ekf4NIK_mKyj",
        "outputId": "f173df49-0f34-4503-939e-d744dd626b60"
      },
      "execution_count": null,
      "outputs": [
        {
          "output_type": "stream",
          "name": "stdout",
          "text": [
            "1.0\n"
          ]
        }
      ]
    },
    {
      "cell_type": "markdown",
      "source": [
        "#Type() Function"
      ],
      "metadata": {
        "id": "qVGRGIBmmw4f"
      }
    },
    {
      "cell_type": "code",
      "source": [
        "y = type(\"Johnny\")\n",
        "print(y)"
      ],
      "metadata": {
        "colab": {
          "base_uri": "https://localhost:8080/"
        },
        "id": "KQHlOxnKmzkB",
        "outputId": "c999a413-d772-4943-beaf-b8be54273d8b"
      },
      "execution_count": null,
      "outputs": [
        {
          "output_type": "stream",
          "name": "stdout",
          "text": [
            "<class 'str'>\n"
          ]
        }
      ]
    },
    {
      "cell_type": "markdown",
      "source": [
        "#Multiple Variable"
      ],
      "metadata": {
        "id": "ILcEX3QrpK1N"
      }
    },
    {
      "cell_type": "code",
      "source": [
        "x,y,z=\"One\",\"two\",'three'\n",
        "print(x,y,z)"
      ],
      "metadata": {
        "colab": {
          "base_uri": "https://localhost:8080/"
        },
        "id": "y5QtQhhUpN1u",
        "outputId": "58c9c33a-5843-48d5-d928-ef04d7127b7f"
      },
      "execution_count": null,
      "outputs": [
        {
          "output_type": "stream",
          "name": "stdout",
          "text": [
            "One two three\n"
          ]
        }
      ]
    },
    {
      "cell_type": "markdown",
      "source": [
        "#One Value to Multiple Variables"
      ],
      "metadata": {
        "id": "uY4lEGiSqu-D"
      }
    },
    {
      "cell_type": "code",
      "source": [
        "x=y=z=\"Stella\"\n",
        "print(x,y,z)\n",
        "print(x)\n",
        "print(y)\n",
        "print(z)"
      ],
      "metadata": {
        "colab": {
          "base_uri": "https://localhost:8080/"
        },
        "id": "TLMl3J1bqzXw",
        "outputId": "684d7cc3-ee3b-44c1-8e4d-2ff863b60753"
      },
      "execution_count": null,
      "outputs": [
        {
          "output_type": "stream",
          "name": "stdout",
          "text": [
            "Stella Stella Stella\n",
            "Stella\n",
            "Stella\n",
            "Stella\n"
          ]
        }
      ]
    },
    {
      "cell_type": "markdown",
      "source": [
        "#Output Varibles"
      ],
      "metadata": {
        "id": "HctODPs7rBOV"
      }
    },
    {
      "cell_type": "code",
      "source": [
        "x=\"Programming \"\n",
        "print(x + \"is Fun\")"
      ],
      "metadata": {
        "colab": {
          "base_uri": "https://localhost:8080/"
        },
        "id": "DTNWfPDCrEQu",
        "outputId": "83fafa74-a403-441d-9a7c-b655d05f4674"
      },
      "execution_count": null,
      "outputs": [
        {
          "output_type": "stream",
          "name": "stdout",
          "text": [
            "Programming is Fun\n"
          ]
        }
      ]
    },
    {
      "cell_type": "code",
      "source": [
        "a=\"Programming \"\n",
        "b=\"is\"\n",
        "c=\" Fun\"\n",
        "print(a + b + c)"
      ],
      "metadata": {
        "colab": {
          "base_uri": "https://localhost:8080/"
        },
        "id": "9elGE0hVrkH3",
        "outputId": "36bc9c71-628d-40f2-be3e-73a901471b2b"
      },
      "execution_count": null,
      "outputs": [
        {
          "output_type": "stream",
          "name": "stdout",
          "text": [
            "Programming is Fun\n"
          ]
        }
      ]
    }
  ]
}