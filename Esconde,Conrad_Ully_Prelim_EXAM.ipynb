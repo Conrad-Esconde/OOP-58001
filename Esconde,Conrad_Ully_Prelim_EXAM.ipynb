{
  "nbformat": 4,
  "nbformat_minor": 0,
  "metadata": {
    "colab": {
      "name": "Esconde,Conrad Ully Prelim EXAM.ipynb",
      "provenance": [],
      "authorship_tag": "ABX9TyM1dBLBsM3kwkHEojg3xFDy",
      "include_colab_link": true
    },
    "kernelspec": {
      "name": "python3",
      "display_name": "Python 3"
    },
    "language_info": {
      "name": "python"
    }
  },
  "cells": [
    {
      "cell_type": "markdown",
      "metadata": {
        "id": "view-in-github",
        "colab_type": "text"
      },
      "source": [
        "<a href=\"https://colab.research.google.com/github/Conrad-Esconde/OOP-58001/blob/main/Esconde%2CConrad_Ully_Prelim_EXAM.ipynb\" target=\"_parent\"><img src=\"https://colab.research.google.com/assets/colab-badge.svg\" alt=\"Open In Colab\"/></a>"
      ]
    },
    {
      "cell_type": "markdown",
      "source": [
        "Problem 2. (50 points)\n",
        "\n",
        ">Write a Python to display your full name, student number, age, and course\n",
        ">Create a class named Student with attributes: Name, Student_No, Age, School, and Course\n",
        ">Create an object name Myself and assign an instance for each attribute.\n",
        ">Create a method Self () using an instantiation of a class.\n",
        ">Insert your GitHub link \"Prelim Exam\" from your repository named \"OOP 58001\" "
      ],
      "metadata": {
        "id": "PJxPmAyfHLmm"
      }
    },
    {
      "cell_type": "code",
      "source": [
        "class Student:\n",
        "  def __init__(self, Name, Student_No, Age, School, Course):\n",
        "      self.fullname = Name\n",
        "      self.studnumber = Student_No\n",
        "      self.age = Age\n",
        "      self.school = School\n",
        "      self.course = Course\n",
        "\n",
        "  def studname (self):\n",
        "    return self.fullname\n",
        "\n",
        "  def studnumb (self):\n",
        "    return self.studnumber\n",
        "\n",
        "  def agenumber (self):\n",
        "    return self.age\n",
        "\n",
        "  def schoolname (self):\n",
        "    return self.school\n",
        "  \n",
        "  def Mycourse (self):\n",
        "    return self.course\n",
        "\n",
        "  def display (self):\n",
        "    print(\"My name is\", self.studname())\n",
        "    print(\"My student number is\", self.studnumb())\n",
        "    print(\"I'm \", self.agenumber(), \"years old :>\")\n",
        "    print(\"I attend school at \", self.schoolname())\n",
        "    print(\"My course is \",self.Mycourse())\n",
        "AKO = Student (\"COnrad Ully R. Esconde \", \"202111554\", \"19\", \"Adamson University\", \"CPE-101\")\n",
        "AKO.display()\n"
      ],
      "metadata": {
        "colab": {
          "base_uri": "https://localhost:8080/"
        },
        "id": "JE9O-AEgHPhF",
        "outputId": "0970572d-7661-47b0-c8c3-fbafd40d18cc"
      },
      "execution_count": 8,
      "outputs": [
        {
          "output_type": "stream",
          "name": "stdout",
          "text": [
            "My name is COnrad Ully R. Esconde \n",
            "My student number is 202111554\n",
            "I'm  19 years old :>\n",
            "I attend school at  Adamson University\n",
            "My course is  CPE-101\n"
          ]
        }
      ]
    }
  ]
}