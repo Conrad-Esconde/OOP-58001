{
  "nbformat": 4,
  "nbformat_minor": 0,
  "metadata": {
    "colab": {
      "name": "MidtermExam.ipynb",
      "provenance": [],
      "authorship_tag": "ABX9TyMYnjD6XQ/kuu8mI+mIFG8R",
      "include_colab_link": true
    },
    "kernelspec": {
      "name": "python3",
      "display_name": "Python 3"
    },
    "language_info": {
      "name": "python"
    }
  },
  "cells": [
    {
      "cell_type": "markdown",
      "metadata": {
        "id": "view-in-github",
        "colab_type": "text"
      },
      "source": [
        "<a href=\"https://colab.research.google.com/github/Conrad-Esconde/OOP-58001/blob/main/MidtermExam.ipynb\" target=\"_parent\"><img src=\"https://colab.research.google.com/assets/colab-badge.svg\" alt=\"Open In Colab\"/></a>"
      ]
    },
    {
      "cell_type": "markdown",
      "source": [
        "Program 1: Modify the program below by adding two conversion methods - Fahrenheit to Celsius and Kelvin to Celsius (50 points)"
      ],
      "metadata": {
        "id": "MtU6356NX3Ds"
      }
    },
    {
      "cell_type": "code",
      "source": [
        "def main():\n",
        " class TemperatureConversion:\n",
        "  def __init__(self, temp=1):\n",
        "   self._temp = temp\n",
        " class CelsiusToFahrenheit(TemperatureConversion):\n",
        "  def conversion(self):\n",
        "   return (self._temp * 9) / 5 + 32\n",
        " class CelsiusToKelvin(TemperatureConversion):\n",
        "  def conversion(self):\n",
        "   return self._temp + 273.15\n",
        " class FahrenheitToCelsius(TemperatureConversion):\n",
        "   def conversion(self):\n",
        "     return ((self._temp - 32) * 5) /9\n",
        " class KelvinToCelsius(TemperatureConversion):\n",
        "   def conversion(self):\n",
        "     return self._temp -273.15\n",
        "\n",
        " tempInCelsius = float(input(\"Enter the temperature in Celsius: \"))\n",
        " convert = CelsiusToKelvin(tempInCelsius)\n",
        " print(str(convert.conversion()) + \" Kelvin\")\n",
        " convert = CelsiusToFahrenheit(tempInCelsius)\n",
        " print(str(convert.conversion()) + \" Fahrenheit\")\n",
        "\n",
        " tempInFahrenhiet = float(input(\"Enter the temperature in Fahrenheit: \"))\n",
        " convert = FahrenheitToCelsius(tempInFahrenhiet)\n",
        " print(str(convert.conversion()) + \" Celsius\")\n",
        "\n",
        " tempInKelvin = float(input(\"Enter the temperature in Kelvin: \"))\n",
        " convert = KelvinToCelsius(tempInKelvin)\n",
        " print(str(convert.conversion()) + \" Celsius\")\n",
        "main()"
      ],
      "metadata": {
        "colab": {
          "base_uri": "https://localhost:8080/"
        },
        "id": "R0QvjOCZX7u3",
        "outputId": "326d4ed8-9ee0-406d-ff2c-fcd2998334f7"
      },
      "execution_count": 20,
      "outputs": [
        {
          "output_type": "stream",
          "name": "stdout",
          "text": [
            "Enter the temperature in Celsius: 35\n",
            "308.15 Kelvin\n",
            "95.0 Fahrenheit\n",
            "Enter the temperature in Fahrenheit: 95.0\n",
            "35.0 Celsius\n",
            "Enter the temperature in Kelvin: 308.15\n",
            "35.0 Celsius\n"
          ]
        }
      ]
    }
  ]
}