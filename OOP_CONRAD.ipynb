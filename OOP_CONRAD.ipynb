{
  "nbformat": 4,
  "nbformat_minor": 0,
  "metadata": {
    "colab": {
      "name": "OOP-CONRAD.ipynb",
      "provenance": [],
      "collapsed_sections": [],
      "authorship_tag": "ABX9TyOsG4KPJEL/XzBO06TVBibY",
      "include_colab_link": true
    },
    "kernelspec": {
      "name": "python3",
      "display_name": "Python 3"
    },
    "language_info": {
      "name": "python"
    }
  },
  "cells": [
    {
      "cell_type": "markdown",
      "metadata": {
        "id": "view-in-github",
        "colab_type": "text"
      },
      "source": [
        "<a href=\"https://colab.research.google.com/github/Conrad-Esconde/OOP-58001/blob/main/OOP_CONRAD.ipynb\" target=\"_parent\"><img src=\"https://colab.research.google.com/assets/colab-badge.svg\" alt=\"Open In Colab\"/></a>"
      ]
    },
    {
      "cell_type": "markdown",
      "source": [
        "**Conrad Ully R. Esconde**\n",
        "\n",
        "Class with Multiple Objects Application \n",
        "\n",
        "Create a Python program that displays the name of 3 students (Student 1, Student 2, Student 3) and their grades\n",
        "\n",
        "Create a class name \"Person\" and attributes - std1, std2, std3, pre, mid, fin\n",
        "\n",
        "Compute for the average grade of each term using Grade() method\n",
        "\n",
        "Information about student's grades must be hidden from others *italicized text*"
      ],
      "metadata": {
        "id": "6j3iiimmCMU6"
      }
    },
    {
      "cell_type": "code",
      "execution_count": null,
      "metadata": {
        "id": "xtGGPL0TCFYd",
        "colab": {
          "base_uri": "https://localhost:8080/"
        },
        "outputId": "00dea48e-b9bc-475f-b8ec-bcf8f5d55e0c"
      },
      "outputs": [
        {
          "output_type": "stream",
          "name": "stdout",
          "text": [
            "Conrad Ully -> Prelim Grade of:  24.3\n",
            "Conrad Ully -> Midterm Grade of:  22.8\n",
            "Conrad Ully -> Final Grade of:  38.800000000000004\n"
          ]
        }
      ],
      "source": [
        "\n",
        "import random\n",
        "\n",
        "class Person:\n",
        "  def __init__ (self, student, pre, mid, fin):\n",
        "    self.student = student\n",
        "    self.pre = pre *0.30\n",
        "    self.mid = mid *0.30\n",
        "    self.fin = fin *0.40\n",
        "\n",
        "  def Grade (self):\n",
        "    print (self.student, \"-> Prelim Grade of: \", self.pre)\n",
        "    print (self.student, \"-> Midterm Grade of: \", self.mid)\n",
        "    print (self.student, \"-> Final Grade of: \", self.fin)\n",
        "\n",
        "std1 = Person (\"Conrad Ully\", random.randint(70,99), random.randint(70,99), random.randint(70,99))\n",
        "std2 = Person (\"Kurt Bazolny\", random.randint(70,99), random.randint(70,99), random.randint(70,99))\n",
        "std3 = Person (\"Edward Kenway\", random.randint(70,99), random.randint(70,99), random.randint(70,99))\n",
        "\n",
        "std1.Grade()\n"
      ]
    }
  ]
}